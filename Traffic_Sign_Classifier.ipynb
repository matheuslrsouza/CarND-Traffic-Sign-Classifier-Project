{
 "cells": [
  {
   "cell_type": "markdown",
   "metadata": {},
   "source": [
    "# Self-Driving Car Engineer Nanodegree\n",
    "\n",
    "## Deep Learning\n",
    "\n",
    "## Project: Build a Traffic Sign Recognition Classifier\n",
    "\n",
    "In this notebook, a template is provided for you to implement your functionality in stages, which is required to successfully complete this project. If additional code is required that cannot be included in the notebook, be sure that the Python code is successfully imported and included in your submission if necessary. \n",
    "\n",
    "> **Note**: Once you have completed all of the code implementations, you need to finalize your work by exporting the iPython Notebook as an HTML document. Before exporting the notebook to html, all of the code cells need to have been run so that reviewers can see the final implementation and output. You can then export the notebook by using the menu above and navigating to  \\n\",\n",
    "    \"**File -> Download as -> HTML (.html)**. Include the finished document along with this notebook as your submission. \n",
    "\n",
    "In addition to implementing code, there is a writeup to complete. The writeup should be completed in a separate file, which can be either a markdown file or a pdf document. There is a [write up template](https://github.com/udacity/CarND-Traffic-Sign-Classifier-Project/blob/master/writeup_template.md) that can be used to guide the writing process. Completing the code template and writeup template will cover all of the [rubric points](https://review.udacity.com/#!/rubrics/481/view) for this project.\n",
    "\n",
    "The [rubric](https://review.udacity.com/#!/rubrics/481/view) contains \"Stand Out Suggestions\" for enhancing the project beyond the minimum requirements. The stand out suggestions are optional. If you decide to pursue the \"stand out suggestions\", you can include the code in this Ipython notebook and also discuss the results in the writeup file.\n",
    "\n",
    "\n",
    ">**Note:** Code and Markdown cells can be executed using the **Shift + Enter** keyboard shortcut. In addition, Markdown cells can be edited by typically double-clicking the cell to enter edit mode."
   ]
  },
  {
   "cell_type": "markdown",
   "metadata": {},
   "source": [
    "---\n",
    "## Step 0: Load The Data"
   ]
  },
  {
   "cell_type": "code",
   "execution_count": 1,
   "metadata": {
    "collapsed": true
   },
   "outputs": [],
   "source": [
    "# Load pickled data\n",
    "import pickle\n",
    "\n",
    "# Fill this in based on where you saved the training and testing data\n",
    "\n",
    "training_file = 'traffic-data/train.p'\n",
    "validation_file= 'traffic-data/test.p'\n",
    "testing_file = 'traffic-data/valid.p'\n",
    "\n",
    "with open(training_file, mode='rb') as f:\n",
    "    train = pickle.load(f)\n",
    "with open(validation_file, mode='rb') as f:\n",
    "    valid = pickle.load(f)\n",
    "with open(testing_file, mode='rb') as f:\n",
    "    test = pickle.load(f)\n",
    "    \n",
    "X_train, y_train = train['features'], train['labels']\n",
    "X_valid, y_valid = valid['features'], valid['labels']\n",
    "X_test, y_test = test['features'], test['labels']"
   ]
  },
  {
   "cell_type": "markdown",
   "metadata": {},
   "source": [
    "---\n",
    "\n",
    "## Step 1: Dataset Summary & Exploration\n",
    "\n",
    "The pickled data is a dictionary with 4 key/value pairs:\n",
    "\n",
    "- `'features'` is a 4D array containing raw pixel data of the traffic sign images, (num examples, width, height, channels).\n",
    "- `'labels'` is a 1D array containing the label/class id of the traffic sign. The file `signnames.csv` contains id -> name mappings for each id.\n",
    "- `'sizes'` is a list containing tuples, (width, height) representing the original width and height the image.\n",
    "- `'coords'` is a list containing tuples, (x1, y1, x2, y2) representing coordinates of a bounding box around the sign in the image. **THESE COORDINATES ASSUME THE ORIGINAL IMAGE. THE PICKLED DATA CONTAINS RESIZED VERSIONS (32 by 32) OF THESE IMAGES**\n",
    "\n",
    "Complete the basic data summary below. Use python, numpy and/or pandas methods to calculate the data summary rather than hard coding the results. For example, the [pandas shape method](http://pandas.pydata.org/pandas-docs/stable/generated/pandas.DataFrame.shape.html) might be useful for calculating some of the summary results. "
   ]
  },
  {
   "cell_type": "markdown",
   "metadata": {},
   "source": [
    "### Provide a Basic Summary of the Data Set Using Python, Numpy and/or Pandas"
   ]
  },
  {
   "cell_type": "code",
   "execution_count": 2,
   "metadata": {},
   "outputs": [
    {
     "name": "stdout",
     "output_type": "stream",
     "text": [
      "Number of training examples = 34799\n",
      "Number of validing examples = 12630\n",
      "Number of testing examples = 4410\n",
      "Image data shape = (32, 32)\n",
      "Number of classes = 43\n"
     ]
    }
   ],
   "source": [
    "### Replace each question mark with the appropriate value. \n",
    "### Use python, pandas or numpy methods rather than hard coding the results\n",
    "\n",
    "import numpy as np\n",
    "\n",
    "# TODO: Number of training examples\n",
    "n_train = np.array(X_train).shape[0]\n",
    "\n",
    "# TODO: Number of validation examples\n",
    "n_validation = np.array(X_valid).shape[0]\n",
    "\n",
    "# TODO: Number of testing examples.\n",
    "n_test = np.array(X_test).shape[0]\n",
    "\n",
    "# TODO: What's the shape of an traffic sign image?\n",
    "image_shape = (np.array(X_train).shape[1], np.array(X_train).shape[2])\n",
    "\n",
    "# TODO: How many unique classes/labels there are in the dataset.\n",
    "n_classes = len(set(y_train))\n",
    "\n",
    "print(\"Number of training examples =\", n_train)\n",
    "print(\"Number of validing examples =\", n_validation)\n",
    "print(\"Number of testing examples =\", n_test)\n",
    "print(\"Image data shape =\", image_shape)\n",
    "print(\"Number of classes =\", n_classes)"
   ]
  },
  {
   "cell_type": "markdown",
   "metadata": {},
   "source": [
    "### Include an exploratory visualization of the dataset"
   ]
  },
  {
   "cell_type": "markdown",
   "metadata": {},
   "source": [
    "Visualize the German Traffic Signs Dataset using the pickled file(s). This is open ended, suggestions include: plotting traffic sign images, plotting the count of each sign, etc. \n",
    "\n",
    "The [Matplotlib](http://matplotlib.org/) [examples](http://matplotlib.org/examples/index.html) and [gallery](http://matplotlib.org/gallery.html) pages are a great resource for doing visualizations in Python.\n",
    "\n",
    "**NOTE:** It's recommended you start with something simple first. If you wish to do more, come back to it after you've completed the rest of the sections. It can be interesting to look at the distribution of classes in the training, validation and test set. Is the distribution the same? Are there more examples of some classes than others?"
   ]
  },
  {
   "cell_type": "code",
   "execution_count": 3,
   "metadata": {
    "collapsed": true
   },
   "outputs": [],
   "source": [
    "### Data exploration visualization code goes here.\n",
    "### Feel free to use as many code cells as needed.\n",
    "import matplotlib.pyplot as plt\n",
    "# Visualizations will be shown in the notebook.\n",
    "%matplotlib inline"
   ]
  },
  {
   "cell_type": "code",
   "execution_count": 4,
   "metadata": {},
   "outputs": [
    {
     "name": "stdout",
     "output_type": "stream",
     "text": [
      "{0: 'Speed limit (20km/h)', 1: 'Speed limit (30km/h)', 2: 'Speed limit (50km/h)', 3: 'Speed limit (60km/h)', 4: 'Speed limit (70km/h)', 5: 'Speed limit (80km/h)', 6: 'End of speed limit (80km/h)', 7: 'Speed limit (100km/h)', 8: 'Speed limit (120km/h)', 9: 'No passing', 10: 'No passing for vehicles over 3.5 metric tons', 11: 'Right-of-way at the next intersection', 12: 'Priority road', 13: 'Yield', 14: 'Stop', 15: 'No vehicles', 16: 'Vehicles over 3.5 metric tons prohibited', 17: 'No entry', 18: 'General caution', 19: 'Dangerous curve to the left', 20: 'Dangerous curve to the right', 21: 'Double curve', 22: 'Bumpy road', 23: 'Slippery road', 24: 'Road narrows on the right', 25: 'Road work', 26: 'Traffic signals', 27: 'Pedestrians', 28: 'Children crossing', 29: 'Bicycles crossing', 30: 'Beware of ice/snow', 31: 'Wild animals crossing', 32: 'End of all speed and passing limits', 33: 'Turn right ahead', 34: 'Turn left ahead', 35: 'Ahead only', 36: 'Go straight or right', 37: 'Go straight or left', 38: 'Keep right', 39: 'Keep left', 40: 'Roundabout mandatory', 41: 'End of no passing', 42: 'End of no passing by vehicles over 3.5 metric tons'}\n"
     ]
    }
   ],
   "source": [
    "import csv\n",
    "\n",
    "labels_to_name = {}\n",
    "\n",
    "with open('signnames.csv') as csvfile:\n",
    "    reader = csv.DictReader(csvfile)\n",
    "    for row in reader:\n",
    "        labels_to_name[int(row['ClassId'])] = row['SignName']\n",
    "        \n",
    "print(labels_to_name)"
   ]
  },
  {
   "cell_type": "code",
   "execution_count": 5,
   "metadata": {},
   "outputs": [
    {
     "data": {
      "image/png": "[encoded data removed]",
      "text/plain": [
       "<matplotlib.figure.Figure at 0x7f30fd5b07f0>"
      ]
     },
     "metadata": {},
     "output_type": "display_data"
    }
   ],
   "source": [
    "import random\n",
    "\n",
    "fig, ax = plt.subplots(1, 4)\n",
    "fig.subplots_adjust(hspace=0.5)\n",
    "fig.set_size_inches(10, 10)\n",
    "\n",
    "for i in range(0, 4):\n",
    "    n = random.randint(0, n_train)\n",
    "    \n",
    "    img = X_train[n]\n",
    "    ax[i].set_title(labels_to_name[y_train[n]])\n",
    "    ax[i].imshow(img)"
   ]
  },
  {
   "cell_type": "markdown",
   "metadata": {},
   "source": [
    "----\n",
    "\n",
    "## Step 2: Design and Test a Model Architecture\n",
    "\n",
    "Design and implement a deep learning model that learns to recognize traffic signs. Train and test your model on the [German Traffic Sign Dataset](http://benchmark.ini.rub.de/?section=gtsrb&subsection=dataset).\n",
    "\n",
    "The LeNet-5 implementation shown in the [classroom](https://classroom.udacity.com/nanodegrees/nd013/parts/fbf77062-5703-404e-b60c-95b78b2f3f9e/modules/6df7ae49-c61c-4bb2-a23e-6527e69209ec/lessons/601ae704-1035-4287-8b11-e2c2716217ad/concepts/d4aca031-508f-4e0b-b493-e7b706120f81) at the end of the CNN lesson is a solid starting point. You'll have to change the number of classes and possibly the preprocessing, but aside from that it's plug and play! \n",
    "\n",
    "With the LeNet-5 solution from the lecture, you should expect a validation set accuracy of about 0.89. To meet specifications, the validation set accuracy will need to be at least 0.93. It is possible to get an even higher accuracy, but 0.93 is the minimum for a successful project submission. \n",
    "\n",
    "There are various aspects to consider when thinking about this problem:\n",
    "\n",
    "- Neural network architecture (is the network over or underfitting?)\n",
    "- Play around preprocessing techniques (normalization, rgb to grayscale, etc)\n",
    "- Number of examples per label (some have more than others).\n",
    "- Generate fake data.\n",
    "\n",
    "Here is an example of a [published baseline model on this problem](http://yann.lecun.com/exdb/publis/pdf/sermanet-ijcnn-11.pdf). It's not required to be familiar with the approach used in the paper but, it's good practice to try to read papers like these."
   ]
  },
  {
   "cell_type": "markdown",
   "metadata": {},
   "source": [
    "### Pre-process the Data Set (normalization, grayscale, etc.)"
   ]
  },
  {
   "cell_type": "markdown",
   "metadata": {},
   "source": [
    "Minimally, the image data should be normalized so that the data has mean zero and equal variance. For image data, `(pixel - 128)/ 128` is a quick way to approximately normalize the data and can be used in this project. \n",
    "\n",
    "Other pre-processing steps are optional. You can try different techniques to see if it improves performance. \n",
    "\n",
    "Use the code cell (or multiple code cells, if necessary) to implement the first step of your project."
   ]
  },
  {
   "cell_type": "code",
   "execution_count": 6,
   "metadata": {
    "collapsed": true
   },
   "outputs": [],
   "source": [
    "### Preprocess the data here. It is required to normalize the data. Other preprocessing steps could include \n",
    "### converting to grayscale, etc.\n",
    "### Feel free to use as many code cells as needed."
   ]
  },
  {
   "cell_type": "code",
   "execution_count": 7,
   "metadata": {},
   "outputs": [
    {
     "name": "stderr",
     "output_type": "stream",
     "text": [
      "Using TensorFlow backend.\n"
     ]
    }
   ],
   "source": [
    "# Define util functions to augment\n",
    "\n",
    "from scipy.ndimage import rotate\n",
    "from scipy.ndimage import zoom\n",
    "from scipy.misc import face\n",
    "from matplotlib import pyplot as plt\n",
    "\n",
    "from sklearn.utils import shuffle\n",
    "\n",
    "# ZCA whitening\n",
    "from keras.datasets import mnist\n",
    "from keras.preprocessing.image import ImageDataGenerator\n",
    "from keras import backend as K\n",
    "\n",
    "def whitening(X_train, y_train):\n",
    "\n",
    "    datagen = ImageDataGenerator(\n",
    "        zca_whitening=True)\n",
    "\n",
    "    # reshape to be [samples][pixels][width][height]\n",
    "    train_data = np.copy(X_train)\n",
    "    #train_data = train_data.reshape(train_data.shape[0], 1, 32, 32)\n",
    "    train_data = train_data.astype('float32')\n",
    "\n",
    "    y_train_data = np.copy(y_train)\n",
    "\n",
    "    # compute quantities required for featurewise normalization\n",
    "    # (std, mean, and principal components if ZCA whitening is applied)\n",
    "    datagen.fit(train_data)\n",
    "\n",
    "    batches = 0\n",
    "    batch_size = 32\n",
    "\n",
    "    whitening_images = np.array(np.zeros((train_data.shape[0], 32, 32, 1)))\n",
    "    whitening_labels = np.array(np.zeros((y_train_data.shape)))\n",
    "\n",
    "    for x_batch, y_batch in datagen.flow(train_data, y_train_data, batch_size=batch_size):\n",
    "\n",
    "        ini = batches * batch_size\n",
    "        end = ini + x_batch.shape[0]\n",
    "        whitening_images[ini:end] = x_batch #.reshape(x_batch.shape[0], 32, 32, 1)\n",
    "        whitening_labels[ini:end] = y_batch\n",
    "\n",
    "        batches += 1\n",
    "\n",
    "        if batches >= len(train_data) / 32:\n",
    "            # we need to break the loop by hand because\n",
    "            # the generator loops indefinitely\n",
    "            break\n",
    "            \n",
    "    return (whitening_images, whitening_labels)\n",
    "\n",
    "\n",
    "# this method was copied from\n",
    "# https://stackoverflow.com/questions/37119071/scipy-rotate-and-zoom-an-image-without-changing-its-dimensions\n",
    "def clipped_zoom(img, zoom_factor, **kwargs):\n",
    "\n",
    "    h, w = img.shape[:2]\n",
    "\n",
    "    # width and height of the zoomed image\n",
    "    zh = int(np.round(zoom_factor * h))\n",
    "    zw = int(np.round(zoom_factor * w))\n",
    "\n",
    "    # for multichannel images we don't want to apply the zoom factor to the RGB\n",
    "    # dimension, so instead we create a tuple of zoom factors, one per array\n",
    "    # dimension, with 1's for any trailing dimensions after the width and height.\n",
    "    zoom_tuple = (zoom_factor,) * 2 + (1,) * (img.ndim - 2)\n",
    "\n",
    "    # zooming out\n",
    "    if zoom_factor < 1:\n",
    "        # bounding box of the clip region within the output array\n",
    "        top = (h - zh) // 2\n",
    "        left = (w - zw) // 2\n",
    "        # zero-padding\n",
    "        out = np.zeros_like(img)\n",
    "        out[top:top+zh, left:left+zw] = zoom(img, zoom_tuple, **kwargs)\n",
    "\n",
    "    # zooming in\n",
    "    elif zoom_factor > 1:\n",
    "        # bounding box of the clip region within the input array\n",
    "        top = (zh - h) // 2\n",
    "        left = (zw - w) // 2\n",
    "        out = zoom(img[top:top+zh, left:left+zw], zoom_tuple, **kwargs)\n",
    "        # `out` might still be slightly larger than `img` due to rounding, so\n",
    "        # trim off any extra pixels at the edges\n",
    "        trim_top = ((out.shape[0] - h) // 2)\n",
    "        trim_left = ((out.shape[1] - w) // 2)\n",
    "        out = out[trim_top:trim_top+h, trim_left:trim_left+w]\n",
    "\n",
    "    # if zoom_factor == 1, just return the input array\n",
    "    else:\n",
    "        out = img\n",
    "    return out\n",
    "\n",
    "def rotate_img(img):\n",
    "    #rotate the image on range of 10 to 180\n",
    "    angle_rot = random.randint(10, 180)    \n",
    "    return rotate(img, angle_rot, reshape=False)\n",
    "\n",
    "# convert to grayscale\n",
    "def convert_to_grayscale(data):\n",
    "    return np.expand_dims(np.mean(data, axis=3), axis=3)"
   ]
  },
  {
   "cell_type": "code",
   "execution_count": 8,
   "metadata": {},
   "outputs": [
    {
     "name": "stdout",
     "output_type": "stream",
     "text": [
      "(34799, 32, 32, 1)\n"
     ]
    }
   ],
   "source": [
    "X_train = convert_to_grayscale(X_train)\n",
    "X_valid = convert_to_grayscale(X_valid)\n",
    "X_test = convert_to_grayscale(X_test)\n",
    "\n",
    "# shuffle the data for plots\n",
    "X_train, y_train = shuffle(X_train, y_train)\n",
    "\n",
    "print(X_train.shape)"
   ]
  },
  {
   "cell_type": "code",
   "execution_count": 9,
   "metadata": {},
   "outputs": [
    {
     "name": "stderr",
     "output_type": "stream",
     "text": [
      "/home/carnd/anaconda3/envs/carnd-term1/lib/python3.5/site-packages/scipy/ndimage/interpolation.py:600: UserWarning: From scipy 0.13.0, the output shape of zoom() is calculated with round() instead of int() - for these inputs the size of the returned array has changed.\n",
      "  \"the returned array has changed.\", UserWarning)\n"
     ]
    }
   ],
   "source": [
    "# augment the training data using zoom and rotation combined\n",
    "\n",
    "rotated_images = np.array([rotate_img(x) for x in X_train])\n",
    "rotated_labels = np.copy(y_train)\n",
    "\n",
    "zoom_factor = random.uniform(1.1, 1.5)\n",
    "zoom_images = np.array([clipped_zoom(x, zoom_factor) for x in X_train])\n",
    "zoom_labels = np.copy(y_train)\n",
    "\n",
    "whitening_images, whitening_labels = whitening(X_train, y_train)"
   ]
  },
  {
   "cell_type": "code",
   "execution_count": 10,
   "metadata": {},
   "outputs": [
    {
     "data": {
      "image/png": "[encoded data removed]",
      "text/plain": [
       "<matplotlib.figure.Figure at 0x7f30aa2db518>"
      ]
     },
     "metadata": {},
     "output_type": "display_data"
    }
   ],
   "source": [
    "# create a grid of 3x3 images\n",
    "# shows the rotated images\n",
    "for i in range(0, 9):\n",
    "    a = plt.subplot(330 + 1 + i)\n",
    "    a.set_title(labels_to_name[rotated_labels[i]])\n",
    "    plt.imshow(rotated_images[i].squeeze(), cmap=plt.get_cmap('gray'))\n",
    "# show the plot\n",
    "plt.show()"
   ]
  },
  {
   "cell_type": "code",
   "execution_count": 11,
   "metadata": {},
   "outputs": [
    {
     "data": {
      "image/png": "[encoded data removed]",
      "text/plain": [
       "<matplotlib.figure.Figure at 0x7f30aa0c6b38>"
      ]
     },
     "metadata": {},
     "output_type": "display_data"
    }
   ],
   "source": [
    "# create a grid of 3x3 images\n",
    "# shows the whitening images\n",
    "for i in range(0, 9):\n",
    "    a = plt.subplot(330 + 1 + i)\n",
    "    a.set_title(labels_to_name[whitening_labels[i]])\n",
    "    plt.imshow(whitening_images[i].squeeze(), cmap=plt.get_cmap('gray'))\n",
    "# show the plot\n",
    "plt.show()"
   ]
  },
  {
   "cell_type": "code",
   "execution_count": 12,
   "metadata": {
    "collapsed": true
   },
   "outputs": [],
   "source": [
    "def extract_validation_data(x, y, x_valid, y_valid):\n",
    "    \n",
    "    # 10% for validation\n",
    "    validation_count = int(len(x) * 0.1)\n",
    "\n",
    "    #validTest = np.concatenate((validTest, x[-validation_count:]))\n",
    "    new_x_valid = x[-validation_count:]\n",
    "    new_y_valid = y[-validation_count:]\n",
    "    \n",
    "    new_x = x[:-validation_count]\n",
    "    new_y = y[:-validation_count]\n",
    "    \n",
    "    new_x_valid = np.concatenate((x_valid, new_x_valid))\n",
    "    new_y_valid = np.concatenate((y_valid, new_y_valid))\n",
    "    \n",
    "    return (new_x, new_y, new_x_valid, new_y_valid)"
   ]
  },
  {
   "cell_type": "code",
   "execution_count": 13,
   "metadata": {},
   "outputs": [
    {
     "name": "stdout",
     "output_type": "stream",
     "text": [
      "current x_train 34799\n",
      "current x_valid 12630\n",
      "31320\n",
      "31320\n",
      "31320\n",
      "new 1 66119\n",
      "new 2 97439\n",
      "new 3 128759\n",
      "new x_train 128759\n",
      "new x_valid 23067\n"
     ]
    }
   ],
   "source": [
    "print(\"current x_train\", X_train.shape[0])\n",
    "print(\"current x_valid\", X_valid.shape[0])\n",
    "\n",
    "# get a portioin of new data to validation\n",
    "zoom_images, zoom_labels, X_valid, y_valid = extract_validation_data(\n",
    "    zoom_images, zoom_labels, X_valid, y_valid)\n",
    "\n",
    "print(zoom_images.shape[0])\n",
    "\n",
    "rotated_images, rotated_labels, X_valid, y_valid = extract_validation_data(\n",
    "    rotated_images, rotated_labels, X_valid, y_valid)\n",
    "\n",
    "print(rotated_images.shape[0])\n",
    "\n",
    "whitening_images, whitening_labels, X_valid, y_valid = extract_validation_data(\n",
    "    whitening_images, whitening_labels, X_valid, y_valid)\n",
    "\n",
    "print(whitening_images.shape[0])\n",
    "\n",
    "# merge the X_train data and the new_images data and labels\n",
    "\n",
    "X_train = np.concatenate((X_train, zoom_images))\n",
    "y_train = np.concatenate((y_train, zoom_labels))\n",
    "\n",
    "print(\"new 1\", X_train.shape[0])\n",
    "\n",
    "X_train = np.concatenate((X_train, rotated_images))\n",
    "y_train = np.concatenate((y_train, rotated_labels))\n",
    "\n",
    "print(\"new 2\", X_train.shape[0])\n",
    "\n",
    "X_train = np.concatenate((X_train, whitening_images))\n",
    "y_train = np.concatenate((y_train, whitening_labels))\n",
    "\n",
    "print(\"new 3\", X_train.shape[0])\n",
    "\n",
    "# update the the number of training\n",
    "\n",
    "print(\"new x_train\", X_train.shape[0])\n",
    "print(\"new x_valid\", X_valid.shape[0])"
   ]
  },
  {
   "cell_type": "code",
   "execution_count": 14,
   "metadata": {
    "collapsed": true
   },
   "outputs": [],
   "source": [
    "# save the processed  data for checkpoint\n",
    "\n",
    "pickle.dump((X_train, y_train, \n",
    "             X_valid, y_valid, \n",
    "             X_test, y_test, \n",
    "             labels_to_name), open('processed_data.p', 'wb'))"
   ]
  },
  {
   "cell_type": "code",
   "execution_count": 15,
   "metadata": {},
   "outputs": [
    {
     "name": "stdout",
     "output_type": "stream",
     "text": [
      "(128759, 32, 32, 1)\n",
      "43\n"
     ]
    }
   ],
   "source": [
    "# checkpoint!\n",
    "\n",
    "import pickle\n",
    "import numpy as np\n",
    "### Data exploration visualization code goes here.\n",
    "### Feel free to use as many code cells as needed.\n",
    "import matplotlib.pyplot as plt\n",
    "# Visualizations will be shown in the notebook.\n",
    "%matplotlib inline\n",
    "import csv\n",
    "from sklearn.utils import shuffle\n",
    "import tensorflow as tf\n",
    "\n",
    "# Load the Preprocessed Validation data\n",
    "X_train, y_train, X_valid, y_valid, X_test, y_test, labels_to_name = pickle.load(open('processed_data.p', mode='rb'))\n",
    "\n",
    "n_classes = len(set(y_train))\n",
    "\n",
    "print(X_train.shape)\n",
    "print(n_classes)"
   ]
  },
  {
   "cell_type": "code",
   "execution_count": 16,
   "metadata": {},
   "outputs": [
    {
     "name": "stdout",
     "output_type": "stream",
     "text": [
      "-20.610824585\n",
      "289.599773693\n",
      "0.0\n",
      "1.0\n",
      "(128759, 32, 32, 1)\n"
     ]
    }
   ],
   "source": [
    "# normalize the data to mean zero (min:-1 and max:1)\n",
    "print(np.min(X_train))\n",
    "print(np.max(X_train))\n",
    "\n",
    "def normalize(data):\n",
    "    # return np.array([(x - 128) / 128 for x in data])\n",
    "    x_min = np.min(data)\n",
    "    x_max = np.max(data)\n",
    "    a = 0\n",
    "    b = 1\n",
    "\n",
    "    normalized = np.array([a + (value - x_min) * (b - a) / (x_max - x_min) for value in data])\n",
    "    \n",
    "    return normalized\n",
    "\n",
    "X_train = normalize(X_train)\n",
    "X_valid = normalize(X_valid)\n",
    "X_test = normalize(X_test)\n",
    "\n",
    "print(np.min(X_train))\n",
    "print(np.max(X_train))\n",
    "print(X_train.shape)"
   ]
  },
  {
   "cell_type": "code",
   "execution_count": 17,
   "metadata": {},
   "outputs": [
    {
     "name": "stdout",
     "output_type": "stream",
     "text": [
      "TensorFlow Version: 1.2.1\n",
      "Default GPU Device: /gpu:0\n"
     ]
    }
   ],
   "source": [
    "from distutils.version import LooseVersion\n",
    "import warnings\n",
    "\n",
    "# Check TensorFlow Version\n",
    "assert LooseVersion(tf.__version__) >= LooseVersion('1.0'), 'Please use TensorFlow version 1.0 or newer.  You are using {}'.format(tf.__version__)\n",
    "print('TensorFlow Version: {}'.format(tf.__version__))\n",
    "\n",
    "# Check for a GPU\n",
    "if not tf.test.gpu_device_name():\n",
    "    warnings.warn('No GPU found. Please use a GPU to train your neural network.')\n",
    "else:\n",
    "    print('Default GPU Device: {}'.format(tf.test.gpu_device_name()))"
   ]
  },
  {
   "cell_type": "markdown",
   "metadata": {},
   "source": [
    "### Model Architecture"
   ]
  },
  {
   "cell_type": "code",
   "execution_count": 18,
   "metadata": {
    "collapsed": true
   },
   "outputs": [],
   "source": [
    "from tensorflow.contrib.layers import flatten\n",
    "\n",
    "def conv2d_max(X, W, b, strides=[1, 1, 1, 1], padding='VALID'):\n",
    "    conv = tf.nn.conv2d(X, W, strides=strides, padding=padding) + b\n",
    "    conv = tf.nn.relu(conv)\n",
    "    conv = tf.nn.max_pool(conv, ksize=[1, 2, 2, 1], strides=[1, 2, 2, 1], padding='VALID')\n",
    "    return conv\n",
    "    \n",
    "\n",
    "def conv_net(x, keep_prob):\n",
    "    \n",
    "    mu = 0\n",
    "    sigma = 0.1\n",
    "    \n",
    "    weights = {\n",
    "        'wc1': tf.Variable(tf.truncated_normal((5, 5, 1, 6), mean=mu, stddev=sigma)), # 6@14x14\n",
    "        'wc2': tf.Variable(tf.truncated_normal((5, 5, 6, 16), mean=mu, stddev=sigma)), # 16@5x5\n",
    "        'wf1': tf.Variable(tf.truncated_normal((400, 512), mean=mu, stddev=sigma)),\n",
    "        'wf2': tf.Variable(tf.truncated_normal((512, 120), mean=mu, stddev=sigma)),\n",
    "        'wf3': tf.Variable(tf.truncated_normal((120, 84), mean=mu, stddev=sigma)),          \n",
    "        'out': tf.Variable(tf.truncated_normal((84, n_classes), mean=mu, stddev=sigma))\n",
    "    }\n",
    "\n",
    "    biases = {\n",
    "        'bc1': tf.Variable(tf.zeros([6])), \n",
    "        'bc2': tf.Variable(tf.zeros([16])),\n",
    "        'bf1': tf.Variable(tf.zeros([512])),   \n",
    "        'bf2': tf.Variable(tf.zeros([120])),         \n",
    "        'bf3': tf.Variable(tf.zeros([84])), \n",
    "        'out': tf.Variable(tf.zeros([n_classes]))\n",
    "    }\n",
    "    \n",
    "    conv1 = conv2d_max(x, weights['wc1'], biases['bc1'])    \n",
    "    dropout = tf.nn.dropout(conv1, keep_prob)\n",
    "    print(dropout.get_shape())\n",
    "\n",
    "    conv2 = conv2d_max(conv1, weights['wc2'], biases['bc2'])\n",
    "    dropout = tf.nn.dropout(conv2, keep_prob)\n",
    "    print(dropout.get_shape())\n",
    "\n",
    "    f = flatten(dropout)\n",
    "    print(f.get_shape())\n",
    "    \n",
    "    fc1 = tf.matmul(f, weights['wf1']) + biases['bf1']\n",
    "    fc1 = tf.nn.relu(fc1)\n",
    "    dropout = tf.nn.dropout(fc1, keep_prob)\n",
    "    print(dropout.get_shape())\n",
    "\n",
    "    fc2 = tf.matmul(dropout, weights['wf2']) + biases['bf2']\n",
    "    fc2 = tf.nn.relu(fc2)\n",
    "    dropout = tf.nn.dropout(fc2, keep_prob)\n",
    "    print(dropout.get_shape())\n",
    "    \n",
    "    \n",
    "    fc3 = tf.matmul(dropout, weights['wf3']) + biases['bf3']\n",
    "    fc3 = tf.nn.relu(fc3)\n",
    "    dropout = tf.nn.dropout(fc3, keep_prob)\n",
    "    print(dropout.get_shape())\n",
    "\n",
    "    logits = tf.matmul(dropout, weights['out']) + biases['out']\n",
    "    \n",
    "    return logits, conv1, conv2"
   ]
  },
  {
   "cell_type": "code",
   "execution_count": 19,
   "metadata": {
    "collapsed": true
   },
   "outputs": [],
   "source": [
    "tf.reset_default_graph()\n",
    "\n",
    "x = tf.placeholder(tf.float32, (None, 32, 32, 1), name='x')\n",
    "y = tf.placeholder(tf.int32, (None), name='y')\n",
    "keep_prob = tf.placeholder(tf.float32, name='keep_prob')\n",
    "one_hot_y = tf.one_hot(y, n_classes)"
   ]
  },
  {
   "cell_type": "code",
   "execution_count": 20,
   "metadata": {
    "collapsed": true
   },
   "outputs": [],
   "source": [
    "#hyperparameters\n",
    "learning_rate = 0.001\n",
    "epochs = 50\n",
    "batch_size = 128\n",
    "keep_probability = 0.7\n",
    "\n",
    "#91/92 > 0.0005, 40, 128, 0.6"
   ]
  },
  {
   "cell_type": "code",
   "execution_count": 21,
   "metadata": {},
   "outputs": [
    {
     "name": "stdout",
     "output_type": "stream",
     "text": [
      "(?, 14, 14, 6)\n",
      "(?, 5, 5, 16)\n",
      "(?, 400)\n",
      "(?, 512)\n",
      "(?, 120)\n",
      "(?, 84)\n"
     ]
    }
   ],
   "source": [
    "logits, conv1, conv2 = conv_net(x, keep_prob)\n",
    "cross_entropy = tf.nn.softmax_cross_entropy_with_logits(labels=one_hot_y, logits=logits)\n",
    "loss_operation = tf.reduce_mean(cross_entropy)\n",
    "\n",
    "optimizer = tf.train.AdamOptimizer(learning_rate)\n",
    "training_operation = optimizer.minimize(loss_operation)\n"
   ]
  },
  {
   "cell_type": "markdown",
   "metadata": {},
   "source": [
    "### Train, Validate and Test the Model"
   ]
  },
  {
   "cell_type": "markdown",
   "metadata": {},
   "source": [
    "A validation set can be used to assess how well the model is performing. A low accuracy on the training and validation\n",
    "sets imply underfitting. A high accuracy on the training set but low accuracy on the validation set implies overfitting."
   ]
  },
  {
   "cell_type": "code",
   "execution_count": null,
   "metadata": {
    "collapsed": true
   },
   "outputs": [],
   "source": [
    "### Train your model here.\n",
    "### Calculate and report the accuracy on the training and validation set.\n",
    "### Once a final model architecture is selected, \n",
    "### the accuracy on the test set should be calculated and reported as well.\n",
    "### Feel free to use as many code cells as needed."
   ]
  },
  {
   "cell_type": "code",
   "execution_count": 22,
   "metadata": {
    "collapsed": true
   },
   "outputs": [],
   "source": [
    "saver = tf.train.Saver()\n",
    "\n",
    "# argmax(input, axis) -> Returns the index with the largest value across axes of a tensor.\n",
    "\n",
    "# check if the largest probability in logits represents the correct label\n",
    "correct_prediction = tf.equal(tf.argmax(logits, 1), tf.argmax(one_hot_y, 1)) \n",
    "# count the true values (correct prediction)\n",
    "accuracy_operation = tf.reduce_mean(tf.cast(correct_prediction, tf.float32))\n",
    "\n",
    "def evaluate(X_data, y_data):\n",
    "    num_examples = len(X_data)\n",
    "    total_accuracy = 0\n",
    "    sess = tf.get_default_session()\n",
    "    for offset in range(0, num_examples, batch_size):\n",
    "        batch_x, batch_y = X_data[offset:offset+batch_size], y_data[offset:offset+batch_size]\n",
    "        accuracy = sess.run(accuracy_operation, feed_dict={x: batch_x, y: batch_y, keep_prob:1.0})\n",
    "        total_accuracy += (accuracy * len(batch_x))\n",
    "    return total_accuracy / num_examples"
   ]
  },
  {
   "cell_type": "code",
   "execution_count": 23,
   "metadata": {
    "scrolled": false
   },
   "outputs": [
    {
     "name": "stdout",
     "output_type": "stream",
     "text": [
      "Training...\n",
      "\n",
      "EPOCH 1 ...\n",
      "Validation Accuracy = 0.660\n",
      "\n",
      "EPOCH 2 ...\n",
      "Validation Accuracy = 0.766\n",
      "\n",
      "EPOCH 3 ...\n",
      "Validation Accuracy = 0.825\n",
      "\n",
      "EPOCH 4 ...\n",
      "Validation Accuracy = 0.855\n",
      "\n",
      "EPOCH 5 ...\n",
      "Validation Accuracy = 0.872\n",
      "\n",
      "EPOCH 6 ...\n",
      "Validation Accuracy = 0.882\n",
      "\n",
      "EPOCH 7 ...\n",
      "Validation Accuracy = 0.896\n",
      "\n",
      "EPOCH 8 ...\n",
      "Validation Accuracy = 0.896\n",
      "\n",
      "EPOCH 9 ...\n",
      "Validation Accuracy = 0.908\n",
      "\n",
      "EPOCH 10 ...\n",
      "Validation Accuracy = 0.905\n",
      "\n",
      "EPOCH 11 ...\n",
      "Validation Accuracy = 0.913\n",
      "\n",
      "EPOCH 12 ...\n",
      "Validation Accuracy = 0.917\n",
      "\n",
      "EPOCH 13 ...\n",
      "Validation Accuracy = 0.923\n",
      "\n",
      "EPOCH 14 ...\n",
      "Validation Accuracy = 0.918\n",
      "\n",
      "EPOCH 15 ...\n",
      "Validation Accuracy = 0.916\n",
      "\n",
      "EPOCH 16 ...\n",
      "Validation Accuracy = 0.922\n",
      "\n",
      "EPOCH 17 ...\n",
      "Validation Accuracy = 0.929\n",
      "\n",
      "EPOCH 18 ...\n",
      "Validation Accuracy = 0.932\n",
      "\n",
      "EPOCH 19 ...\n",
      "Validation Accuracy = 0.935\n",
      "\n",
      "EPOCH 20 ...\n",
      "Validation Accuracy = 0.934\n",
      "\n",
      "EPOCH 21 ...\n",
      "Validation Accuracy = 0.935\n",
      "\n",
      "EPOCH 22 ...\n",
      "Validation Accuracy = 0.935\n",
      "\n",
      "EPOCH 23 ...\n",
      "Validation Accuracy = 0.937\n",
      "\n",
      "EPOCH 24 ...\n",
      "Validation Accuracy = 0.939\n",
      "\n",
      "EPOCH 25 ...\n",
      "Validation Accuracy = 0.940\n",
      "\n",
      "EPOCH 26 ...\n",
      "Validation Accuracy = 0.936\n",
      "\n",
      "EPOCH 27 ...\n",
      "Validation Accuracy = 0.929\n",
      "\n",
      "EPOCH 28 ...\n",
      "Validation Accuracy = 0.945\n",
      "\n",
      "EPOCH 29 ...\n",
      "Validation Accuracy = 0.944\n",
      "\n",
      "EPOCH 30 ...\n",
      "Validation Accuracy = 0.943\n",
      "\n",
      "EPOCH 31 ...\n",
      "Validation Accuracy = 0.935\n",
      "\n",
      "EPOCH 32 ...\n",
      "Validation Accuracy = 0.941\n",
      "\n",
      "EPOCH 33 ...\n",
      "Validation Accuracy = 0.948\n",
      "\n",
      "EPOCH 34 ...\n",
      "Validation Accuracy = 0.945\n",
      "\n",
      "EPOCH 35 ...\n",
      "Validation Accuracy = 0.946\n",
      "\n",
      "EPOCH 36 ...\n",
      "Validation Accuracy = 0.946\n",
      "\n",
      "EPOCH 37 ...\n",
      "Validation Accuracy = 0.947\n",
      "\n",
      "EPOCH 38 ...\n",
      "Validation Accuracy = 0.946\n",
      "\n",
      "EPOCH 39 ...\n",
      "Validation Accuracy = 0.947\n",
      "\n",
      "EPOCH 40 ...\n",
      "Validation Accuracy = 0.948\n",
      "\n",
      "EPOCH 41 ...\n",
      "Validation Accuracy = 0.949\n",
      "\n",
      "EPOCH 42 ...\n",
      "Validation Accuracy = 0.946\n",
      "\n",
      "EPOCH 43 ...\n",
      "Validation Accuracy = 0.951\n",
      "\n",
      "EPOCH 44 ...\n",
      "Validation Accuracy = 0.950\n",
      "\n",
      "EPOCH 45 ...\n",
      "Validation Accuracy = 0.949\n",
      "\n",
      "EPOCH 46 ...\n",
      "Validation Accuracy = 0.950\n",
      "\n",
      "EPOCH 47 ...\n",
      "Validation Accuracy = 0.947\n",
      "\n",
      "EPOCH 48 ...\n",
      "Validation Accuracy = 0.941\n",
      "\n",
      "EPOCH 49 ...\n",
      "Validation Accuracy = 0.948\n",
      "\n",
      "EPOCH 50 ...\n",
      "Validation Accuracy = 0.952\n",
      "\n",
      "Model saved\n"
     ]
    }
   ],
   "source": [
    "with tf.Session() as sess:\n",
    "    sess.run(tf.global_variables_initializer())\n",
    "    num_examples = len(X_train)\n",
    "\n",
    "    print(\"Training...\")\n",
    "    print()\n",
    "    for i in range(epochs):\n",
    "        X_train, y_train = shuffle(X_train, y_train)\n",
    "        for offset in range(0, num_examples, batch_size):\n",
    "            end = offset + batch_size\n",
    "            batch_x, batch_y = X_train[offset:end], y_train[offset:end]\n",
    "            sess.run(training_operation, feed_dict={x: batch_x, y: batch_y, keep_prob:keep_probability})\n",
    "\n",
    "        validation_accuracy = evaluate(X_valid, y_valid)\n",
    "        print(\"EPOCH {} ...\".format(i+1))\n",
    "        print(\"Validation Accuracy = {:.3f}\".format(validation_accuracy))\n",
    "        print()\n",
    "\n",
    "    saver.save(sess, './lenet')\n",
    "    print(\"Model saved\")"
   ]
  },
  {
   "cell_type": "code",
   "execution_count": 24,
   "metadata": {},
   "outputs": [
    {
     "name": "stdout",
     "output_type": "stream",
     "text": [
      "INFO:tensorflow:Restoring parameters from ./lenet\n",
      "Test Accuracy = 0.954\n"
     ]
    }
   ],
   "source": [
    "with tf.Session() as sess:\n",
    "    saver.restore(sess, tf.train.latest_checkpoint('.'))\n",
    "    test_accuracy = evaluate(X_test, y_test)\n",
    "    print(\"Test Accuracy = {:.3f}\".format(test_accuracy))"
   ]
  },
  {
   "cell_type": "markdown",
   "metadata": {},
   "source": [
    "---\n",
    "\n",
    "## Step 3: Test a Model on New Images\n",
    "\n",
    "To give yourself more insight into how your model is working, download at least five pictures of German traffic signs from the web and use your model to predict the traffic sign type.\n",
    "\n",
    "You may find `signnames.csv` useful as it contains mappings from the class id (integer) to the actual sign name."
   ]
  },
  {
   "cell_type": "markdown",
   "metadata": {},
   "source": [
    "### Load and Output the Images"
   ]
  },
  {
   "cell_type": "code",
   "execution_count": 25,
   "metadata": {},
   "outputs": [
    {
     "data": {
      "image/png": "[encoded data removed]",
      "text/plain": [
       "<matplotlib.figure.Figure at 0x7f305d419c18>"
      ]
     },
     "metadata": {},
     "output_type": "display_data"
    }
   ],
   "source": [
    "### Load the images and plot them here.\n",
    "### Feel free to use as many code cells as needed.\n",
    "\n",
    "import matplotlib.image as mpimg\n",
    "\n",
    "def get_data_test():\n",
    "    x = [\n",
    "        mpimg.imread('internet_images/stop.jpg'),\n",
    "        mpimg.imread('internet_images/yield.jpg'),\n",
    "        mpimg.imread('internet_images/children.jpg'),\n",
    "        mpimg.imread('internet_images/max_speed_30.jpg'),\n",
    "        mpimg.imread('internet_images/bumpy.jpg')\n",
    "    ]\n",
    "    y = [\n",
    "        14, 13, 28, 1, 22\n",
    "    ]\n",
    "    return x, y\n",
    "\n",
    "x_data_test, y_data_test = get_data_test()\n",
    "\n",
    "for i in range(0, 5):\n",
    "    a = plt.subplot(330 + 1 + i)\n",
    "    a.set_title(labels_to_name[y_data_test[i]])\n",
    "    plt.imshow(x_data_test[i])\n",
    "\n",
    "plt.show()"
   ]
  },
  {
   "cell_type": "markdown",
   "metadata": {},
   "source": [
    "### Predict the Sign Type for Each Image"
   ]
  },
  {
   "cell_type": "code",
   "execution_count": 26,
   "metadata": {
    "collapsed": true
   },
   "outputs": [],
   "source": [
    "from collections import Counter\n",
    "\n",
    "def print_precision_and_recall(y, pred):\n",
    "    bool_predictions = np.equal(y, pred)\n",
    "    \n",
    "    c_true_pos = Counter()\n",
    "    \n",
    "    for i in range(len(y)):\n",
    "        label = y[i]        \n",
    "        if bool_predictions[i]:\n",
    "            c_true_pos.update({label: 1})\n",
    "    \n",
    "    total_pos_pred_by_sign = Counter(pred)\n",
    "    # total true elements in data set\n",
    "    false_neg_by_sign = Counter(y)\n",
    "    \n",
    "    # gets the labels sorted\n",
    "    labels = sorted(set(y))\n",
    "    \n",
    "    print()\n",
    "    print(\"true_positive / false_positive\")\n",
    "    \n",
    "    # precision\n",
    "    # measure of exactness or quality (best case is no false positives)\n",
    "    for i in labels:        \n",
    "        tp = c_true_pos[i]\n",
    "        fp = total_pos_pred_by_sign[i]\n",
    "        if fp > 0:\n",
    "            # total pred positives - true positives\n",
    "            error = fp - tp\n",
    "            precision = tp / fp\n",
    "            print (\"precision of {:} is {:.2f} Correct: {:} - Error: {:} - {:}\"\n",
    "                   .format(i, precision, tp, error, labels_to_name[i]))\n",
    "        else: # nothing correct\n",
    "            print(\"precision of {:} is {:.2f}  {:}\".format(i, 0, labels_to_name[i]))\n",
    "\n",
    "    print()\n",
    "    print(\"true_positive / false_negative\")\n",
    "    \n",
    "    # recall\n",
    "    # measure of completeness or quantity (best case is no false negatives)\n",
    "    # between all elements, how much we classify correct?\n",
    "    for i in labels:\n",
    "        tp = c_true_pos[i]\n",
    "        fn = false_neg_by_sign[i]\n",
    "        \n",
    "        if fn > 0:\n",
    "            # total elements positives - true positives\n",
    "            error = fn - tp\n",
    "            recall = tp / fn\n",
    "            print(\"recall of {:} is {:.2f} ({:}/{:}) -> Error: {:} - {:})\"\n",
    "                  .format(i, recall, tp, fn, error, labels_to_name[i]))"
   ]
  },
  {
   "cell_type": "code",
   "execution_count": 27,
   "metadata": {
    "scrolled": false
   },
   "outputs": [
    {
     "name": "stdout",
     "output_type": "stream",
     "text": [
      "INFO:tensorflow:Restoring parameters from ./lenet\n",
      "Accuracy = 0.954\n",
      "\n",
      "true_positive / false_positive\n",
      "precision of 0 is 0.97 Correct: 28 - Error: 1 - Speed limit (20km/h)\n",
      "precision of 1 is 0.98 Correct: 228 - Error: 4 - Speed limit (30km/h)\n",
      "precision of 2 is 0.94 Correct: 238 - Error: 14 - Speed limit (50km/h)\n",
      "precision of 3 is 1.00 Correct: 147 - Error: 0 - Speed limit (60km/h)\n",
      "precision of 4 is 0.95 Correct: 210 - Error: 12 - Speed limit (70km/h)\n",
      "precision of 5 is 0.98 Correct: 199 - Error: 5 - Speed limit (80km/h)\n",
      "precision of 6 is 0.97 Correct: 60 - Error: 2 - End of speed limit (80km/h)\n",
      "precision of 7 is 0.99 Correct: 145 - Error: 2 - Speed limit (100km/h)\n",
      "precision of 8 is 0.97 Correct: 144 - Error: 4 - Speed limit (120km/h)\n",
      "precision of 9 is 1.00 Correct: 148 - Error: 0 - No passing\n",
      "precision of 10 is 1.00 Correct: 210 - Error: 1 - No passing for vehicles over 3.5 metric tons\n",
      "precision of 11 is 0.90 Correct: 146 - Error: 17 - Right-of-way at the next intersection\n",
      "precision of 12 is 0.96 Correct: 210 - Error: 8 - Priority road\n",
      "precision of 13 is 0.99 Correct: 239 - Error: 2 - Yield\n",
      "precision of 14 is 0.97 Correct: 89 - Error: 3 - Stop\n",
      "precision of 15 is 0.99 Correct: 90 - Error: 1 - No vehicles\n",
      "precision of 16 is 1.00 Correct: 55 - Error: 0 - Vehicles over 3.5 metric tons prohibited\n",
      "precision of 17 is 0.99 Correct: 119 - Error: 1 - No entry\n",
      "precision of 18 is 0.89 Correct: 112 - Error: 14 - General caution\n",
      "precision of 19 is 0.94 Correct: 30 - Error: 2 - Dangerous curve to the left\n",
      "precision of 20 is 1.00 Correct: 40 - Error: 0 - Dangerous curve to the right\n",
      "precision of 21 is 1.00 Correct: 39 - Error: 0 - Double curve\n",
      "precision of 22 is 1.00 Correct: 60 - Error: 0 - Bumpy road\n",
      "precision of 23 is 0.86 Correct: 59 - Error: 10 - Slippery road\n",
      "precision of 24 is 0.88 Correct: 14 - Error: 2 - Road narrows on the right\n",
      "precision of 25 is 0.94 Correct: 140 - Error: 9 - Road work\n",
      "precision of 26 is 0.75 Correct: 59 - Error: 20 - Traffic signals\n",
      "precision of 27 is 1.00 Correct: 17 - Error: 0 - Pedestrians\n",
      "precision of 28 is 0.95 Correct: 60 - Error: 3 - Children crossing\n",
      "precision of 29 is 0.88 Correct: 30 - Error: 4 - Bicycles crossing\n",
      "precision of 30 is 0.91 Correct: 60 - Error: 6 - Beware of ice/snow\n",
      "precision of 31 is 0.94 Correct: 88 - Error: 6 - Wild animals crossing\n",
      "precision of 32 is 0.90 Correct: 28 - Error: 3 - End of all speed and passing limits\n",
      "precision of 33 is 1.00 Correct: 87 - Error: 0 - Turn right ahead\n",
      "precision of 34 is 0.98 Correct: 48 - Error: 1 - Turn left ahead\n",
      "precision of 35 is 0.85 Correct: 120 - Error: 22 - Ahead only\n",
      "precision of 36 is 1.00 Correct: 60 - Error: 0 - Go straight or right\n",
      "precision of 37 is 1.00 Correct: 30 - Error: 0 - Go straight or left\n",
      "precision of 38 is 0.94 Correct: 204 - Error: 12 - Keep right\n",
      "precision of 39 is 0.64 Correct: 9 - Error: 5 - Keep left\n",
      "precision of 40 is 1.00 Correct: 54 - Error: 0 - Roundabout mandatory\n",
      "precision of 41 is 0.84 Correct: 27 - Error: 5 - End of no passing\n",
      "precision of 42 is 1.00 Correct: 29 - Error: 0 - End of no passing by vehicles over 3.5 metric tons\n",
      "\n",
      "true_positive / false_negative\n",
      "recall of 0 is 0.93 (28/30) -> Error: 2 - Speed limit (20km/h))\n",
      "recall of 1 is 0.95 (228/240) -> Error: 12 - Speed limit (30km/h))\n",
      "recall of 2 is 0.99 (238/240) -> Error: 2 - Speed limit (50km/h))\n",
      "recall of 3 is 0.98 (147/150) -> Error: 3 - Speed limit (60km/h))\n",
      "recall of 4 is 1.00 (210/210) -> Error: 0 - Speed limit (70km/h))\n",
      "recall of 5 is 0.95 (199/210) -> Error: 11 - Speed limit (80km/h))\n",
      "recall of 6 is 1.00 (60/60) -> Error: 0 - End of speed limit (80km/h))\n",
      "recall of 7 is 0.97 (145/150) -> Error: 5 - Speed limit (100km/h))\n",
      "recall of 8 is 0.96 (144/150) -> Error: 6 - Speed limit (120km/h))\n",
      "recall of 9 is 0.99 (148/150) -> Error: 2 - No passing)\n",
      "recall of 10 is 1.00 (210/210) -> Error: 0 - No passing for vehicles over 3.5 metric tons)\n",
      "recall of 11 is 0.97 (146/150) -> Error: 4 - Right-of-way at the next intersection)\n",
      "recall of 12 is 1.00 (210/210) -> Error: 0 - Priority road)\n",
      "recall of 13 is 1.00 (239/240) -> Error: 1 - Yield)\n",
      "recall of 14 is 0.99 (89/90) -> Error: 1 - Stop)\n",
      "recall of 15 is 1.00 (90/90) -> Error: 0 - No vehicles)\n",
      "recall of 16 is 0.92 (55/60) -> Error: 5 - Vehicles over 3.5 metric tons prohibited)\n",
      "recall of 17 is 0.99 (119/120) -> Error: 1 - No entry)\n",
      "recall of 18 is 0.93 (112/120) -> Error: 8 - General caution)\n",
      "recall of 19 is 1.00 (30/30) -> Error: 0 - Dangerous curve to the left)\n",
      "recall of 20 is 0.67 (40/60) -> Error: 20 - Dangerous curve to the right)\n",
      "recall of 21 is 0.65 (39/60) -> Error: 21 - Double curve)\n",
      "recall of 22 is 1.00 (60/60) -> Error: 0 - Bumpy road)\n",
      "recall of 23 is 0.98 (59/60) -> Error: 1 - Slippery road)\n",
      "recall of 24 is 0.47 (14/30) -> Error: 16 - Road narrows on the right)\n",
      "recall of 25 is 0.93 (140/150) -> Error: 10 - Road work)\n",
      "recall of 26 is 0.98 (59/60) -> Error: 1 - Traffic signals)\n",
      "recall of 27 is 0.57 (17/30) -> Error: 13 - Pedestrians)\n",
      "recall of 28 is 1.00 (60/60) -> Error: 0 - Children crossing)\n",
      "recall of 29 is 1.00 (30/30) -> Error: 0 - Bicycles crossing)\n",
      "recall of 30 is 1.00 (60/60) -> Error: 0 - Beware of ice/snow)\n",
      "recall of 31 is 0.98 (88/90) -> Error: 2 - Wild animals crossing)\n",
      "recall of 32 is 0.93 (28/30) -> Error: 2 - End of all speed and passing limits)\n",
      "recall of 33 is 0.97 (87/90) -> Error: 3 - Turn right ahead)\n",
      "recall of 34 is 0.80 (48/60) -> Error: 12 - Turn left ahead)\n",
      "recall of 35 is 1.00 (120/120) -> Error: 0 - Ahead only)\n",
      "recall of 36 is 1.00 (60/60) -> Error: 0 - Go straight or right)\n",
      "recall of 37 is 1.00 (30/30) -> Error: 0 - Go straight or left)\n",
      "recall of 38 is 0.97 (204/210) -> Error: 6 - Keep right)\n",
      "recall of 39 is 0.30 (9/30) -> Error: 21 - Keep left)\n",
      "recall of 40 is 0.90 (54/60) -> Error: 6 - Roundabout mandatory)\n",
      "recall of 41 is 0.90 (27/30) -> Error: 3 - End of no passing)\n",
      "recall of 42 is 0.97 (29/30) -> Error: 1 - End of no passing by vehicles over 3.5 metric tons)\n"
     ]
    }
   ],
   "source": [
    "with tf.Session() as sess:\n",
    "    saver.restore(sess, tf.train.latest_checkpoint('.'))\n",
    "    \n",
    "    sess = tf.get_default_session()\n",
    "    \n",
    "    # check if the largest probability in logits represents the correct label\n",
    "    correct_prediction = tf.equal(tf.argmax(logits, 1), tf.argmax(one_hot_y, 1)) \n",
    "    # mean of true values\n",
    "    accuracy_operation = tf.reduce_mean(tf.cast(correct_prediction, tf.float32))\n",
    "    \n",
    "    predictions = tf.argmax(logits, 1)\n",
    "    accuracy, pred = sess.run([accuracy_operation, predictions], \n",
    "                        feed_dict={x: X_test, \n",
    "                                   y: y_test, keep_prob:1.0})\n",
    "\n",
    "    print(\"Accuracy = {:.3f}\".format(accuracy))\n",
    "    \n",
    "    print_precision_and_recall(y_test, pred)    "
   ]
  },
  {
   "cell_type": "code",
   "execution_count": 28,
   "metadata": {},
   "outputs": [
    {
     "name": "stdout",
     "output_type": "stream",
     "text": [
      "INFO:tensorflow:Restoring parameters from ./lenet\n",
      "Expected:   [14, 13, 28, 1, 22]\n",
      "Predicted:  [14 13 28  1 22]\n"
     ]
    }
   ],
   "source": [
    "### Run the predictions here and use the model to output the prediction for each image.\n",
    "### Make sure to pre-process the images with the same pre-processing pipeline used earlier.\n",
    "### Feel free to use as many code cells as needed.\n",
    "\n",
    "x_data_test = convert_to_grayscale(x_data_test)\n",
    "x_data_test = normalize(x_data_test)\n",
    "\n",
    "with tf.Session() as sess:\n",
    "    saver.restore(sess, tf.train.latest_checkpoint('.'))\n",
    "    sess = tf.get_default_session()\n",
    "    \n",
    "    predictions = tf.argmax(logits, 1)\n",
    "    pred = sess.run(predictions, \n",
    "                    feed_dict={x: x_data_test, \n",
    "                               y: y_data_test, keep_prob:1.0})\n",
    "    \n",
    "    print(\"Expected:  \", y_data_test)\n",
    "    print(\"Predicted: \", pred)"
   ]
  },
  {
   "cell_type": "markdown",
   "metadata": {},
   "source": [
    "### Analyze Performance"
   ]
  },
  {
   "cell_type": "code",
   "execution_count": 29,
   "metadata": {},
   "outputs": [
    {
     "name": "stdout",
     "output_type": "stream",
     "text": [
      "INFO:tensorflow:Restoring parameters from ./lenet\n",
      "Accuracy = 1.000\n",
      "\n",
      "true_positive / false_positive\n",
      "precision of 1 is 1.00 Correct: 1 - Error: 0 - Speed limit (30km/h)\n",
      "precision of 13 is 1.00 Correct: 1 - Error: 0 - Yield\n",
      "precision of 14 is 1.00 Correct: 1 - Error: 0 - Stop\n",
      "precision of 22 is 1.00 Correct: 1 - Error: 0 - Bumpy road\n",
      "precision of 28 is 1.00 Correct: 1 - Error: 0 - Children crossing\n",
      "\n",
      "true_positive / false_negative\n",
      "recall of 1 is 1.00 (1/1) -> Error: 0 - Speed limit (30km/h))\n",
      "recall of 13 is 1.00 (1/1) -> Error: 0 - Yield)\n",
      "recall of 14 is 1.00 (1/1) -> Error: 0 - Stop)\n",
      "recall of 22 is 1.00 (1/1) -> Error: 0 - Bumpy road)\n",
      "recall of 28 is 1.00 (1/1) -> Error: 0 - Children crossing)\n"
     ]
    }
   ],
   "source": [
    "### Calculate the accuracy for these 5 new images. \n",
    "### For example, if the model predicted 1 out of 5 signs correctly, it's 20% accurate on these new images.\n",
    "with tf.Session() as sess:\n",
    "    saver.restore(sess, tf.train.latest_checkpoint('.'))\n",
    "    sess = tf.get_default_session()\n",
    "    \n",
    "    correct_prediction = tf.equal(tf.argmax(logits, 1), tf.argmax(one_hot_y, 1)) \n",
    "    accuracy_operation = tf.reduce_mean(tf.cast(correct_prediction, tf.float32))\n",
    "    \n",
    "    accuracy = sess.run(accuracy_operation, \n",
    "                                feed_dict={x: x_data_test, \n",
    "                                           y: y_data_test, keep_prob:1.0})\n",
    "\n",
    "    print(\"Accuracy = {:.3f}\".format(accuracy))\n",
    "    print_precision_and_recall(y_data_test, pred)      "
   ]
  },
  {
   "cell_type": "markdown",
   "metadata": {},
   "source": [
    "### Output Top 5 Softmax Probabilities For Each Image Found on the Web"
   ]
  },
  {
   "cell_type": "markdown",
   "metadata": {},
   "source": [
    "For each of the new images, print out the model's softmax probabilities to show the **certainty** of the model's predictions (limit the output to the top 5 probabilities for each image). [`tf.nn.top_k`](https://www.tensorflow.org/versions/r0.12/api_docs/python/nn.html#top_k) could prove helpful here. \n",
    "\n",
    "The example below demonstrates how tf.nn.top_k can be used to find the top k predictions for each image.\n",
    "\n",
    "`tf.nn.top_k` will return the values and indices (class ids) of the top k predictions. So if k=3, for each sign, it'll return the 3 largest probabilities (out of a possible 43) and the correspoding class ids.\n",
    "\n",
    "Take this numpy array as an example. The values in the array represent predictions. The array contains softmax probabilities for five candidate images with six possible classes. `tk.nn.top_k` is used to choose the three classes with the highest probability:\n",
    "\n",
    "```\n",
    "# (5, 6) array\n",
    "a = np.array([[ 0.24879643,  0.07032244,  0.12641572,  0.34763842,  0.07893497,\n",
    "         0.12789202],\n",
    "       [ 0.28086119,  0.27569815,  0.08594638,  0.0178669 ,  0.18063401,\n",
    "         0.15899337],\n",
    "       [ 0.26076848,  0.23664738,  0.08020603,  0.07001922,  0.1134371 ,\n",
    "         0.23892179],\n",
    "       [ 0.11943333,  0.29198961,  0.02605103,  0.26234032,  0.1351348 ,\n",
    "         0.16505091],\n",
    "       [ 0.09561176,  0.34396535,  0.0643941 ,  0.16240774,  0.24206137,\n",
    "         0.09155967]])\n",
    "```\n",
    "\n",
    "Running it through `sess.run(tf.nn.top_k(tf.constant(a), k=3))` produces:\n",
    "\n",
    "```\n",
    "TopKV2(values=array([[ 0.34763842,  0.24879643,  0.12789202],\n",
    "       [ 0.28086119,  0.27569815,  0.18063401],\n",
    "       [ 0.26076848,  0.23892179,  0.23664738],\n",
    "       [ 0.29198961,  0.26234032,  0.16505091],\n",
    "       [ 0.34396535,  0.24206137,  0.16240774]]), indices=array([[3, 0, 5],\n",
    "       [0, 1, 4],\n",
    "       [0, 5, 1],\n",
    "       [1, 3, 5],\n",
    "       [1, 4, 3]], dtype=int32))\n",
    "```\n",
    "\n",
    "Looking just at the first row we get `[ 0.34763842,  0.24879643,  0.12789202]`, you can confirm these are the 3 largest probabilities in `a`. You'll also notice `[3, 0, 5]` are the corresponding indices."
   ]
  },
  {
   "cell_type": "code",
   "execution_count": 30,
   "metadata": {
    "scrolled": false
   },
   "outputs": [
    {
     "name": "stdout",
     "output_type": "stream",
     "text": [
      "INFO:tensorflow:Restoring parameters from ./lenet\n",
      "TopKV2(values=array([[  90.4209671 ,  -20.69339752,  -29.87153435,  -35.90050888,\n",
      "         -35.93984604],\n",
      "       [  46.30570221,    9.77893925,   -6.79920959,   -8.94138336,\n",
      "         -14.18898201],\n",
      "       [  63.21399307,    0.25086597,   -9.99172115,  -14.35551167,\n",
      "         -20.7367897 ],\n",
      "       [  16.01891899,   10.12626076,    4.98589611,    4.57775879,\n",
      "          -5.93817139],\n",
      "       [ 188.69073486,   74.85572052,   54.81977463,   20.37905693,\n",
      "           4.85672283]], dtype=float32), indices=array([[14, 25, 33, 35, 13],\n",
      "       [13, 22, 29, 26, 35],\n",
      "       [28, 29, 20, 24, 23],\n",
      "       [ 1,  0,  4,  2,  5],\n",
      "       [22, 13, 29, 26, 39]], dtype=int32))\n",
      "TopKV2(values=array([[  90.4209671 ,  -20.69339752,  -29.87153435,  -35.90050888,\n",
      "         -35.93984604],\n",
      "       [  46.30570221,    9.77893925,   -6.79920959,   -8.94138336,\n",
      "         -14.18898201],\n",
      "       [  63.21399307,    0.25086597,   -9.99172115,  -14.35551167,\n",
      "         -20.7367897 ],\n",
      "       [  16.01891899,   10.12626076,    4.98589611,    4.57775879,\n",
      "          -5.93817139],\n",
      "       [ 188.69073486,   74.85572052,   54.81977463,   20.37905693,\n",
      "           4.85672283]], dtype=float32), indices=array([[14, 25, 33, 35, 13],\n",
      "       [13, 22, 29, 26, 35],\n",
      "       [28, 29, 20, 24, 23],\n",
      "       [ 1,  0,  4,  2,  5],\n",
      "       [22, 13, 29, 26, 39]], dtype=int32))\n"
     ]
    },
    {
     "data": {
      "image/png": "[encoded data removed]",
      "text/plain": [
       "<matplotlib.figure.Figure at 0x7f30a2a27208>"
      ]
     },
     "metadata": {},
     "output_type": "display_data"
    },
    {
     "data": {
      "image/png": "[encoded data removed]",
      "text/plain": [
       "<matplotlib.figure.Figure at 0x7f30a2a27240>"
      ]
     },
     "metadata": {},
     "output_type": "display_data"
    },
    {
     "data": {
      "image/png": "[encoded data removed]",
      "text/plain": [
       "<matplotlib.figure.Figure at 0x7f30a297c240>"
      ]
     },
     "metadata": {},
     "output_type": "display_data"
    },
    {
     "data": {
      "image/png": "[encoded data removed]",
      "text/plain": [
       "<matplotlib.figure.Figure at 0x7f30a2a1c470>"
      ]
     },
     "metadata": {},
     "output_type": "display_data"
    },
    {
     "data": {
      "image/png": "[encoded data removed]",
      "text/plain": [
       "<matplotlib.figure.Figure at 0x7f30a28a60f0>"
      ]
     },
     "metadata": {},
     "output_type": "display_data"
    }
   ],
   "source": [
    "### Print out the top five softmax probabilities for the predictions on the German traffic sign images found on the web. \n",
    "### Feel free to use as many code cells as needed.\n",
    "\n",
    "def plot_prabalities(softmax, expected_labels):\n",
    "    probs = softmax[0]\n",
    "    labels = softmax[1]\n",
    "    \n",
    "    print(softmax)\n",
    "    \n",
    "    for i, label in enumerate(y_data_test):\n",
    "        y = probs[i]\n",
    "        x = labels[i]\n",
    "\n",
    "        N = len(y_data_test)\n",
    "\n",
    "        ind = np.arange(N)  # the x locations for the groups\n",
    "        width = 0.5       # the width of the bars\n",
    "\n",
    "        fig, ax = plt.subplots()\n",
    "        fig.set_size_inches(12, 5)\n",
    "        rects1 = ax.bar(ind, y, width, color='b')\n",
    "        \n",
    "        x_with_names = [labels_to_name[l][:18] for l in x]\n",
    "\n",
    "        # add some text for labels, title and axes ticks\n",
    "        ax.set_ylabel('Prob')\n",
    "        ax.set_title('Top 5 probabilities')\n",
    "        ax.set_title(\"Expected: {:} - {:} \".format(expected_labels[i], labels_to_name[expected_labels[i]]))\n",
    "        ax.set_xticks(ind + width / 2)\n",
    "        ax.set_xticklabels(x_with_names)\n",
    "\n",
    "        def autolabel(rects):\n",
    "            \"\"\"\n",
    "            Attach a text label above each bar displaying its height\n",
    "            \"\"\"\n",
    "            for rect in rects:\n",
    "                height = rect.get_height()\n",
    "                ax.text(rect.get_x() + rect.get_width()/2., 1.05*height,\n",
    "                        '%d' % int(height),\n",
    "                        ha='center', va='bottom')\n",
    "\n",
    "        autolabel(rects1)\n",
    "        \n",
    "\n",
    "with tf.Session() as sess:\n",
    "    saver.restore(sess, tf.train.latest_checkpoint('.'))\n",
    "    sess = tf.get_default_session()\n",
    "    \n",
    "    pred = sess.run(logits, \n",
    "                    feed_dict={x: x_data_test, \n",
    "                               y: y_data_test, keep_prob:1.0})\n",
    "\n",
    "    softmax = sess.run(tf.nn.top_k(pred, k=5))\n",
    "    \n",
    "    print(softmax)\n",
    "    \n",
    "    plot_prabalities(softmax, y_data_test)"
   ]
  },
  {
   "cell_type": "markdown",
   "metadata": {},
   "source": [
    "### Project Writeup\n",
    "\n",
    "Once you have completed the code implementation, document your results in a project writeup using this [template](https://github.com/udacity/CarND-Traffic-Sign-Classifier-Project/blob/master/writeup_template.md) as a guide. The writeup can be in a markdown or pdf file. "
   ]
  },
  {
   "cell_type": "markdown",
   "metadata": {},
   "source": [
    "> **Note**: Once you have completed all of the code implementations and successfully answered each question above, you may finalize your work by exporting the iPython Notebook as an HTML document. You can do this by using the menu above and navigating to  \\n\",\n",
    "    \"**File -> Download as -> HTML (.html)**. Include the finished document along with this notebook as your submission."
   ]
  },
  {
   "cell_type": "markdown",
   "metadata": {},
   "source": [
    "---\n",
    "\n",
    "## Step 4 (Optional): Visualize the Neural Network's State with Test Images\n",
    "\n",
    " This Section is not required to complete but acts as an additional excersise for understaning the output of a neural network's weights. While neural networks can be a great learning device they are often referred to as a black box. We can understand what the weights of a neural network look like better by plotting their feature maps. After successfully training your neural network you can see what it's feature maps look like by plotting the output of the network's weight layers in response to a test stimuli image. From these plotted feature maps, it's possible to see what characteristics of an image the network finds interesting. For a sign, maybe the inner network feature maps react with high activation to the sign's boundary outline or to the contrast in the sign's painted symbol.\n",
    "\n",
    " Provided for you below is the function code that allows you to get the visualization output of any tensorflow weight layer you want. The inputs to the function should be a stimuli image, one used during training or a new one you provided, and then the tensorflow variable name that represents the layer's state during the training process, for instance if you wanted to see what the [LeNet lab's](https://classroom.udacity.com/nanodegrees/nd013/parts/fbf77062-5703-404e-b60c-95b78b2f3f9e/modules/6df7ae49-c61c-4bb2-a23e-6527e69209ec/lessons/601ae704-1035-4287-8b11-e2c2716217ad/concepts/d4aca031-508f-4e0b-b493-e7b706120f81) feature maps looked like for it's second convolutional layer you could enter conv2 as the tf_activation variable.\n",
    "\n",
    "For an example of what feature map outputs look like, check out NVIDIA's results in their paper [End-to-End Deep Learning for Self-Driving Cars](https://devblogs.nvidia.com/parallelforall/deep-learning-self-driving-cars/) in the section Visualization of internal CNN State. NVIDIA was able to show that their network's inner weights had high activations to road boundary lines by comparing feature maps from an image with a clear path to one without. Try experimenting with a similar test to show that your trained network's weights are looking for interesting features, whether it's looking at differences in feature maps from images with or without a sign, or even what feature maps look like in a trained network vs a completely untrained one on the same sign image.\n",
    "\n",
    "<figure>\n",
    " <img src=\"visualize_cnn.png\" width=\"380\" alt=\"Combined Image\" />\n",
    " <figcaption>\n",
    " <p></p> \n",
    " <p style=\"text-align: center;\"> Your output should look something like this (above)</p> \n",
    " </figcaption>\n",
    "</figure>\n",
    " <p></p> \n"
   ]
  },
  {
   "cell_type": "code",
   "execution_count": 31,
   "metadata": {
    "collapsed": true
   },
   "outputs": [],
   "source": [
    "### Visualize your network's feature maps here.\n",
    "### Feel free to use as many code cells as needed.\n",
    "\n",
    "# image_input: the test image being fed into the network to produce the feature maps\n",
    "# tf_activation: should be a tf variable name used during your training procedure that represents the calculated state of a specific weight layer\n",
    "# activation_min/max: can be used to view the activation contrast in more detail, by default matplot sets min and max to the actual min and max values of the output\n",
    "# plt_num: used to plot out multiple different weight feature map sets on the same block, just extend the plt number for each new feature map entry\n",
    "\n",
    "def outputFeatureMap(image_input, tf_activation, sess=sess, activation_min=-1, activation_max=-1 ,plt_num=1):\n",
    "    # Here make sure to preprocess your image_input in a way your network expects\n",
    "    # with size, normalization, ect if needed\n",
    "    # image_input =\n",
    "    # Note: x should be the same name as your network's tensorflow data placeholder variable\n",
    "    # If you get an error tf_activation is not defined it may be having trouble accessing the variable from inside a function\n",
    "    activation = tf_activation.eval(session=sess, feed_dict={x : image_input, keep_prob:1.0})\n",
    "    featuremaps = activation.shape[3]\n",
    "    plt.figure(plt_num, figsize=(15,15))\n",
    "    for featuremap in range(featuremaps):\n",
    "        plt.subplot(8,8, featuremap+1) # sets the number of feature maps to show on each row and column\n",
    "        plt.title('FeatureMap ' + str(featuremap)) # displays the feature map number\n",
    "        if activation_min != -1 & activation_max != -1:\n",
    "            plt.imshow(activation[0,:,:, featuremap], interpolation=\"nearest\", vmin =activation_min, vmax=activation_max, cmap=\"gray\")\n",
    "        elif activation_max != -1:\n",
    "            plt.imshow(activation[0,:,:, featuremap], interpolation=\"nearest\", vmax=activation_max, cmap=\"gray\")\n",
    "        elif activation_min !=-1:\n",
    "            plt.imshow(activation[0,:,:, featuremap], interpolation=\"nearest\", vmin=activation_min, cmap=\"gray\")\n",
    "        else:\n",
    "            plt.imshow(activation[0,:,:, featuremap], interpolation=\"nearest\", cmap=\"gray\")"
   ]
  },
  {
   "cell_type": "code",
   "execution_count": 32,
   "metadata": {},
   "outputs": [
    {
     "name": "stdout",
     "output_type": "stream",
     "text": [
      "INFO:tensorflow:Restoring parameters from ./lenet\n"
     ]
    },
    {
     "data": {
      "image/png": "[encoded data removed]",
      "text/plain": [
       "<matplotlib.figure.Figure at 0x7f30a2a771d0>"
      ]
     },
     "metadata": {},
     "output_type": "display_data"
    }
   ],
   "source": [
    "with tf.Session() as sess:\n",
    "    saver.restore(sess, tf.train.latest_checkpoint('.'))\n",
    "    sess.run(tf.global_variables_initializer())\n",
    "    \n",
    "    outputFeatureMap([x_data_test[2]], conv1, sess)"
   ]
  },
  {
   "cell_type": "code",
   "execution_count": 33,
   "metadata": {},
   "outputs": [
    {
     "name": "stdout",
     "output_type": "stream",
     "text": [
      "INFO:tensorflow:Restoring parameters from ./lenet\n"
     ]
    },
    {
     "data": {
      "image/png": "[encoded data removed]",
      "text/plain": [
       "<matplotlib.figure.Figure at 0x7f30a2ac8630>"
      ]
     },
     "metadata": {},
     "output_type": "display_data"
    }
   ],
   "source": [
    "with tf.Session() as sess:\n",
    "    saver.restore(sess, tf.train.latest_checkpoint('.'))\n",
    "    sess.run(tf.global_variables_initializer())\n",
    "    \n",
    "    outputFeatureMap([x_data_test[2]], conv2, sess)"
   ]
  },
  {
   "cell_type": "code",
   "execution_count": null,
   "metadata": {
    "collapsed": true
   },
   "outputs": [],
   "source": []
  }
 ],
 "metadata": {
  "anaconda-cloud": {},
  "kernelspec": {
   "display_name": "Python 3",
   "language": "python",
   "name": "python3"
  },
  "language_info": {
   "codemirror_mode": {
    "name": "ipython",
    "version": 3
   },
   "file_extension": ".py",
   "mimetype": "text/x-python",
   "name": "python",
   "nbconvert_exporter": "python",
   "pygments_lexer": "ipython3",
   "version": "3.5.2"
  },
  "widgets": {
   "state": {},
   "version": "1.1.2"
  }
 },
 "nbformat": 4,
 "nbformat_minor": 1
}
